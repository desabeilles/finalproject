{
  "metadata": {
    "language_info": {
      "codemirror_mode": {
        "name": "python",
        "version": 3
      },
      "file_extension": ".py",
      "mimetype": "text/x-python",
      "name": "python",
      "nbconvert_exporter": "python",
      "pygments_lexer": "ipython3",
      "version": "3.8"
    },
    "kernelspec": {
      "name": "python",
      "display_name": "Python (Pyodide)",
      "language": "python"
    }
  },
  "nbformat_minor": 4,
  "nbformat": 4,
  "cells": [
    {
      "cell_type": "markdown",
      "source": "Exercise 2 - Create a markdown cell with the title of the notebook.\n# My Jupyter Project",
      "metadata": {}
    },
    {
      "cell_type": "markdown",
      "source": "Exercise 3 - Create a markdown cell for an introduction. \n\nThis is my final project.",
      "metadata": {}
    },
    {
      "cell_type": "markdown",
      "source": "Exercise 4 - Create a markdown cell to list data science languages.\n\n- Python\n- R\n- SQL\n- Java\n- Julia\n- Scala",
      "metadata": {}
    },
    {
      "cell_type": "markdown",
      "source": "Exercise 5 - Create a markdown cell to list data science libraries. \n\n- TensorFlow\n- NumPy\n- SciPy \n- Pandas\n- Matplotlib \n- Keras\n- SciKit-Learn\n- PyTorch",
      "metadata": {}
    },
    {
      "cell_type": "markdown",
      "source": "Exercise 6 - Create a markdown cell with a table of Data Science tools. \n\n| Cloud based tools | Multipurpose tools | Programming Languages |\n| ----------------- | -----------------  | --------------------- |\n|  BigML            |  Apache Spark      |  Python               |\n|  Google Analytics |  Matlab            |  R                    |\n",
      "metadata": {}
    },
    {
      "cell_type": "markdown",
      "source": "Exercise 7 - Create a markdown cell introducing arithmetic expression examples.\n\n\\begin{align}\nE = mc^2\n\\end{align}",
      "metadata": {}
    },
    {
      "cell_type": "code",
      "source": "# Exercise 8 - Create a code cell to multiply and add numbers.\n\na=3;\nb=7;\nc=a*b;\nd=a+b+c;\nprint(c);\nprint(d);",
      "metadata": {
        "trusted": true
      },
      "execution_count": 13,
      "outputs": [
        {
          "name": "stdout",
          "text": "21\n31\n",
          "output_type": "stream"
        }
      ]
    },
    {
      "cell_type": "code",
      "source": "# Exercise 9 - Create a code cell to convert minutes to hours.\n\ndef convert(mins):\n   hours = mins // 60\n   remain = mins % 60\n   print(f\"{hours} hours and {remain} minutes\")\n\nn = 100\nprint(convert(n))",
      "metadata": {
        "trusted": true
      },
      "execution_count": 15,
      "outputs": [
        {
          "name": "stdout",
          "text": "1 hours and 40 minutes\nNone\n",
          "output_type": "stream"
        }
      ]
    },
    {
      "cell_type": "markdown",
      "source": "Exercise 10 -Insert a markdown cell to list Objectives. (3 pts)\n\nMy objectives are\n- Understand data science\n- Learn new programming languages\n- Use Jupyter notebook in research projects\n",
      "metadata": {}
    },
    {
      "cell_type": "markdown",
      "source": "Exercise 11 - Create a markdown cell to indicate the Author’s name. (2 pts)\n\nMy name is Kamila Stekerova",
      "metadata": {}
    },
    {
      "cell_type": "code",
      "source": "Exercise 12 - Share your notebook through GitHub (3 pts)\n",
      "metadata": {},
      "execution_count": null,
      "outputs": []
    },
    {
      "cell_type": "code",
      "source": "Exercise 13 - Take a screenshot of the first page of the notebook. (1 pt)",
      "metadata": {},
      "execution_count": null,
      "outputs": []
    }
  ]
}